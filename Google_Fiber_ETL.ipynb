{
 "cells": [
  {
   "cell_type": "markdown",
   "metadata": {},
   "source": [
    "# Mock ETL Process for Practice\n",
    "\n",
    "\n",
    "## Extract data\n",
    "* Extract csv file from computer to prepare for BI Dashboard"
   ]
  },
  {
   "cell_type": "code",
   "execution_count": 1,
   "metadata": {},
   "outputs": [],
   "source": [
    "import pandas as pd\n",
    "\n",
    "def extract_data(source_path: str, source_type: str = \"csv\", inspect: bool = False) -> pd.DataFrame:\n",
    "    \"\"\"Load data from a given file path and optionally inspect it.\"\"\"\n",
    "    if source_type == \"csv\":\n",
    "        df = pd.read_csv(source_path)  # Use the provided path\n",
    "    else:\n",
    "        raise ValueError(f\"Unsupported source type: {source_type}\")\n",
    "\n",
    "    if inspect:\n",
    "        print(\"=== Data Inspection ===\")\n",
    "        print(f\"Shape: {df.shape}\")\n",
    "        print(\"\\nFirst 5 rows:\")\n",
    "        print(df.head())\n",
    "    \n",
    "    return df"
   ]
  },
  {
   "cell_type": "code",
   "execution_count": 2,
   "metadata": {},
   "outputs": [
    {
     "name": "stdout",
     "output_type": "stream",
     "text": [
      "=== Data Inspection ===\n",
      "Shape: (1350, 11)\n",
      "\n",
      "First 5 rows:\n",
      "  date_created  contacts_n  contacts_n_1  contacts_n_2  contacts_n_3  \\\n",
      "0   2022-01-15         2.0           0.0           0.0           0.0   \n",
      "1   2022-01-18         3.0           1.0           1.0           0.0   \n",
      "2   2022-03-06         3.0           0.0           0.0           0.0   \n",
      "3   2022-01-19         3.0           1.0           0.0           1.0   \n",
      "4   2022-03-18         3.0           0.0           0.0           0.0   \n",
      "\n",
      "   contacts_n_4  contacts_n_5  contacts_n_6  contacts_n_7 new_type new_market  \n",
      "0           0.0           0.0           1.0           0.0   type_1   market_3  \n",
      "1           0.0           0.0           0.0           0.0   type_1   market_3  \n",
      "2           1.0           0.0           0.0           0.0   type_1   market_3  \n",
      "3           0.0           0.0           0.0           0.0   type_1   market_3  \n",
      "4           1.0           0.0           0.0           0.0   type_1   market_3  \n"
     ]
    }
   ],
   "source": [
    "# call extract data function\n",
    "df = extract_data(\"/Users/douglas/CSV/Target_Table.csv\", inspect=True)  \n",
    "\n",
    "# df1 = extract_data(\"/Users/douglas/CSV/Table1.csv\", inspect=True) \n",
    "# df2 = extract_data(\"/Users/douglas/CSV/Table2.csv\", inspect=True) \n",
    "# df3 = extract_data(\"/Users/douglas/CSV/Table3.csv\", inspect=True) \n"
   ]
  },
  {
   "cell_type": "code",
   "execution_count": 3,
   "metadata": {},
   "outputs": [],
   "source": [
    "# potential to do union all in Python as part of the pipeline\n",
    "\n",
    "# # Equivalent to UNION ALL\n",
    "# union_all_df = pd.concat([df1, df2, df3], ignore_index=True)"
   ]
  },
  {
   "cell_type": "markdown",
   "metadata": {},
   "source": [
    "# Transform Data:\n",
    "\n",
    "* Rename catagorical instances in new_type and new_market\n",
    "* Detect null values\n",
    "* Impute 0's into null values\n",
    "* Verify no nulls\n",
    "* Create a total callbacks column.\n",
    "* Create a callbacks to contact column"
   ]
  },
  {
   "cell_type": "code",
   "execution_count": 4,
   "metadata": {},
   "outputs": [
    {
     "name": "stdout",
     "output_type": "stream",
     "text": [
      "Your selected dataframe has 11 columns.\n",
      "There are 8 columns that have missing values.\n"
     ]
    },
    {
     "data": {
      "text/html": [
       "<div>\n",
       "<style scoped>\n",
       "    .dataframe tbody tr th:only-of-type {\n",
       "        vertical-align: middle;\n",
       "    }\n",
       "\n",
       "    .dataframe tbody tr th {\n",
       "        vertical-align: top;\n",
       "    }\n",
       "\n",
       "    .dataframe thead th {\n",
       "        text-align: right;\n",
       "    }\n",
       "</style>\n",
       "<table border=\"1\" class=\"dataframe\">\n",
       "  <thead>\n",
       "    <tr style=\"text-align: right;\">\n",
       "      <th></th>\n",
       "      <th>Missing Values</th>\n",
       "      <th>% of Total Values</th>\n",
       "    </tr>\n",
       "  </thead>\n",
       "  <tbody>\n",
       "    <tr>\n",
       "      <th>contacts_n_6</th>\n",
       "      <td>634</td>\n",
       "      <td>47.0</td>\n",
       "    </tr>\n",
       "    <tr>\n",
       "      <th>contacts_n_5</th>\n",
       "      <td>631</td>\n",
       "      <td>46.7</td>\n",
       "    </tr>\n",
       "    <tr>\n",
       "      <th>contacts_n_7</th>\n",
       "      <td>617</td>\n",
       "      <td>45.7</td>\n",
       "    </tr>\n",
       "    <tr>\n",
       "      <th>contacts_n_4</th>\n",
       "      <td>611</td>\n",
       "      <td>45.3</td>\n",
       "    </tr>\n",
       "    <tr>\n",
       "      <th>contacts_n_3</th>\n",
       "      <td>572</td>\n",
       "      <td>42.4</td>\n",
       "    </tr>\n",
       "    <tr>\n",
       "      <th>contacts_n_2</th>\n",
       "      <td>529</td>\n",
       "      <td>39.2</td>\n",
       "    </tr>\n",
       "    <tr>\n",
       "      <th>contacts_n_1</th>\n",
       "      <td>458</td>\n",
       "      <td>33.9</td>\n",
       "    </tr>\n",
       "    <tr>\n",
       "      <th>contacts_n</th>\n",
       "      <td>182</td>\n",
       "      <td>13.5</td>\n",
       "    </tr>\n",
       "  </tbody>\n",
       "</table>\n",
       "</div>"
      ],
      "text/plain": [
       "              Missing Values  % of Total Values\n",
       "contacts_n_6             634               47.0\n",
       "contacts_n_5             631               46.7\n",
       "contacts_n_7             617               45.7\n",
       "contacts_n_4             611               45.3\n",
       "contacts_n_3             572               42.4\n",
       "contacts_n_2             529               39.2\n",
       "contacts_n_1             458               33.9\n",
       "contacts_n               182               13.5"
      ]
     },
     "execution_count": 4,
     "metadata": {},
     "output_type": "execute_result"
    }
   ],
   "source": [
    "def missing_values_table(df):\n",
    "    # calculate the sum of null values in each column    \n",
    "    missing_values = df.isnull().sum()\n",
    "\n",
    "    # calculate the percentage of nulls in each column\n",
    "    percent_of_nulls = 100 * df.isnull().sum() / len(df)\n",
    "\n",
    "    # Combine the two Series(count and percentage)\n",
    "    count_perc_table = pd.concat([missing_values, percent_of_nulls], axis=1)\n",
    "\n",
    "    # rename columns\n",
    "    count_perc_col_names = count_perc_table.rename(\n",
    "        columns={0: 'Missing Values', 1: '% of Total Values'})\n",
    "    \n",
    "    # Sort the data\n",
    "    count_perc_col_names = count_perc_col_names[\n",
    "        count_perc_col_names.iloc[:, 1] != 0].sort_values(\n",
    "        '% of Total Values', ascending=False).round(1)\n",
    "    \n",
    "    # Print the shape of the dataframe\n",
    "    print(\"Your selected dataframe has \" + str(df.shape[1]) + \" columns.\\n\"\n",
    "          \"There are \" + str(count_perc_col_names.shape[0]) +\n",
    "          \" columns that have missing values.\")\n",
    "    \n",
    "    # Return the dataframe with missing information\n",
    "    return count_perc_col_names\n",
    "\n",
    "table = missing_values_table(df)\n",
    "table"
   ]
  },
  {
   "cell_type": "code",
   "execution_count": 5,
   "metadata": {},
   "outputs": [
    {
     "name": "stdout",
     "output_type": "stream",
     "text": [
      "Your selected dataframe has 8 columns.\n",
      "There are 0 columns that have missing values.\n"
     ]
    },
    {
     "data": {
      "text/html": [
       "<div>\n",
       "<style scoped>\n",
       "    .dataframe tbody tr th:only-of-type {\n",
       "        vertical-align: middle;\n",
       "    }\n",
       "\n",
       "    .dataframe tbody tr th {\n",
       "        vertical-align: top;\n",
       "    }\n",
       "\n",
       "    .dataframe thead th {\n",
       "        text-align: right;\n",
       "    }\n",
       "</style>\n",
       "<table border=\"1\" class=\"dataframe\">\n",
       "  <thead>\n",
       "    <tr style=\"text-align: right;\">\n",
       "      <th></th>\n",
       "      <th>Missing Values</th>\n",
       "      <th>% of Total Values</th>\n",
       "    </tr>\n",
       "  </thead>\n",
       "  <tbody>\n",
       "  </tbody>\n",
       "</table>\n",
       "</div>"
      ],
      "text/plain": [
       "Empty DataFrame\n",
       "Columns: [Missing Values, % of Total Values]\n",
       "Index: []"
      ]
     },
     "execution_count": 5,
     "metadata": {},
     "output_type": "execute_result"
    }
   ],
   "source": [
    "# impute null values as zero's\n",
    "\n",
    "# create new dataframe\n",
    "contacts_imputed = df.filter(regex='^contacts_n').fillna(0)\n",
    "\n",
    "# Verify change in null values\n",
    "table = missing_values_table(contacts_imputed)\n",
    "\n",
    "table"
   ]
  },
  {
   "cell_type": "code",
   "execution_count": 6,
   "metadata": {},
   "outputs": [
    {
     "name": "stdout",
     "output_type": "stream",
     "text": [
      "   contacts_n  contacts_n_1  contacts_n_2  contacts_n_3  contacts_n_4  \\\n",
      "0         2.0           0.0           0.0           0.0           0.0   \n",
      "1         3.0           1.0           1.0           0.0           0.0   \n",
      "2         3.0           0.0           0.0           0.0           1.0   \n",
      "3         3.0           1.0           0.0           1.0           0.0   \n",
      "4         3.0           0.0           0.0           0.0           1.0   \n",
      "\n",
      "   contacts_n_5  contacts_n_6  contacts_n_7  total_callbacks  \n",
      "0           0.0           1.0           0.0              1.0  \n",
      "1           0.0           0.0           0.0              2.0  \n",
      "2           0.0           0.0           0.0              1.0  \n",
      "3           0.0           0.0           0.0              2.0  \n",
      "4           0.0           0.0           0.0              1.0  \n"
     ]
    }
   ],
   "source": [
    "# Calculate the total callbacks and create a new column\n",
    "# the sum of contacts_imputed[n_1:n_7] minus [contacts_n]\n",
    "\n",
    "total_callbacks = contacts_imputed.loc[:, 'contacts_n_1':'contacts_n_7'].sum(axis=1) \n",
    "\n",
    "# Insert total_callbacks into the contacts_imputed df\n",
    "contacts_imputed.insert(8, 'total_callbacks', total_callbacks)\n",
    "\n",
    "print(contacts_imputed.head())"
   ]
  },
  {
   "cell_type": "code",
   "execution_count": 7,
   "metadata": {},
   "outputs": [
    {
     "name": "stdout",
     "output_type": "stream",
     "text": [
      "31\n",
      "0\n"
     ]
    }
   ],
   "source": [
    "# detect and remove illogical callbacks\n",
    "\n",
    "false_callbacks = (contacts_imputed['total_callbacks'] > 0) & (contacts_imputed['contacts_n'] == 0)\n",
    "print(false_callbacks.sum())\n",
    "\n",
    "# correct false callbacks by setting callbacks to zero\n",
    "contacts_imputed.loc[contacts_imputed['contacts_n'] == 0, 'total_callbacks'] = 0\n",
    "\n",
    "# Verify\n",
    "false_callbacks = (contacts_imputed['total_callbacks'] > 0) & (contacts_imputed['contacts_n'] == 0)\n",
    "print(false_callbacks.sum())"
   ]
  },
  {
   "cell_type": "code",
   "execution_count": 8,
   "metadata": {},
   "outputs": [
    {
     "name": "stdout",
     "output_type": "stream",
     "text": [
      "   contacts_n  contacts_n_1  contacts_n_2  contacts_n_3  contacts_n_4  \\\n",
      "0         2.0           0.0           0.0           0.0           0.0   \n",
      "1         3.0           1.0           1.0           0.0           0.0   \n",
      "2         3.0           0.0           0.0           0.0           1.0   \n",
      "3         3.0           1.0           0.0           1.0           0.0   \n",
      "4         3.0           0.0           0.0           0.0           1.0   \n",
      "\n",
      "   contacts_n_5  contacts_n_6  contacts_n_7  total_callbacks  \\\n",
      "0           0.0           1.0           0.0              1.0   \n",
      "1           0.0           0.0           0.0              2.0   \n",
      "2           0.0           0.0           0.0              1.0   \n",
      "3           0.0           0.0           0.0              2.0   \n",
      "4           0.0           0.0           0.0              1.0   \n",
      "\n",
      "   callbacks_per_contact  \n",
      "0                    0.0  \n",
      "1                    1.0  \n",
      "2                    0.0  \n",
      "3                    1.0  \n",
      "4                    0.0  \n"
     ]
    }
   ],
   "source": [
    "import numpy as np \n",
    "\n",
    "# Creation of the callbacks to contact ratio\n",
    "\n",
    "contacts_imputed['callbacks_per_contact'] = np.where(\n",
    "    contacts_imputed['contacts_n'] <= 0,  # Catch negative values too\n",
    "    0,\n",
    "    (contacts_imputed['total_callbacks'] / contacts_imputed['contacts_n']).round()\n",
    ")\n",
    "\n",
    "print(contacts_imputed.head())"
   ]
  },
  {
   "cell_type": "code",
   "execution_count": 10,
   "metadata": {},
   "outputs": [
    {
     "name": "stdout",
     "output_type": "stream",
     "text": [
      "count    1350.000000\n",
      "mean        0.323704\n",
      "std         0.957024\n",
      "min         0.000000\n",
      "25%         0.000000\n",
      "50%         0.000000\n",
      "75%         0.000000\n",
      "max        18.000000\n",
      "Name: callbacks_per_contact, dtype: float64\n"
     ]
    }
   ],
   "source": [
    "print(contacts_imputed['callbacks_per_contact'].describe())"
   ]
  },
  {
   "cell_type": "code",
   "execution_count": 11,
   "metadata": {},
   "outputs": [],
   "source": [
    "# create variables with the 3 columns needed in the new dataframe\n",
    "new_data_1 = df['date_created']  # List/array for first new column\n",
    "new_data_2 = df['new_type']  # List/array for second new column\n",
    "new_data_3 = df['new_market'] # List/array for third new column"
   ]
  },
  {
   "cell_type": "code",
   "execution_count": 12,
   "metadata": {},
   "outputs": [
    {
     "name": "stdout",
     "output_type": "stream",
     "text": [
      "<class 'pandas.core.frame.DataFrame'>\n",
      "RangeIndex: 1350 entries, 0 to 1349\n",
      "Data columns (total 10 columns):\n",
      " #   Column                 Non-Null Count  Dtype  \n",
      "---  ------                 --------------  -----  \n",
      " 0   contacts_n             1350 non-null   float64\n",
      " 1   contacts_n_1           1350 non-null   float64\n",
      " 2   contacts_n_2           1350 non-null   float64\n",
      " 3   contacts_n_3           1350 non-null   float64\n",
      " 4   contacts_n_4           1350 non-null   float64\n",
      " 5   contacts_n_5           1350 non-null   float64\n",
      " 6   contacts_n_6           1350 non-null   float64\n",
      " 7   contacts_n_7           1350 non-null   float64\n",
      " 8   total_callbacks        1350 non-null   float64\n",
      " 9   callbacks_per_contact  1350 non-null   float64\n",
      "dtypes: float64(10)\n",
      "memory usage: 105.6 KB\n",
      "None\n"
     ]
    }
   ],
   "source": [
    "print(contacts_imputed.info())"
   ]
  },
  {
   "cell_type": "code",
   "execution_count": 13,
   "metadata": {},
   "outputs": [
    {
     "name": "stdout",
     "output_type": "stream",
     "text": [
      "<class 'pandas.core.frame.DataFrame'>\n",
      "RangeIndex: 1350 entries, 0 to 1349\n",
      "Data columns (total 13 columns):\n",
      " #   Column                 Non-Null Count  Dtype  \n",
      "---  ------                 --------------  -----  \n",
      " 0   date_created           1350 non-null   object \n",
      " 1   contacts_n             1350 non-null   float64\n",
      " 2   contacts_n_1           1350 non-null   float64\n",
      " 3   contacts_n_2           1350 non-null   float64\n",
      " 4   contacts_n_3           1350 non-null   float64\n",
      " 5   contacts_n_4           1350 non-null   float64\n",
      " 6   contacts_n_5           1350 non-null   float64\n",
      " 7   contacts_n_6           1350 non-null   float64\n",
      " 8   contacts_n_7           1350 non-null   float64\n",
      " 9   total_callbacks        1350 non-null   float64\n",
      " 10  new_type               1350 non-null   object \n",
      " 11  new_market             1350 non-null   object \n",
      " 12  callbacks_per_contact  1350 non-null   float64\n",
      "dtypes: float64(10), object(3)\n",
      "memory usage: 137.2+ KB\n",
      "None\n"
     ]
    }
   ],
   "source": [
    "# insert columns into the proper order in the dataframe\n",
    "\n",
    "# Insert first column at position 0\n",
    "contacts_imputed.insert(0, 'date_created', new_data_1)\n",
    "\n",
    "# Insert second column at position 10 (or any other position)\n",
    "contacts_imputed.insert(10, 'new_type', new_data_2)\n",
    "\n",
    "# Insert third column at position 11 (or any other position)\n",
    "contacts_imputed.insert(11, 'new_market', new_data_3)\n",
    "\n",
    "\n",
    "# Verify\n",
    "print(contacts_imputed.info())\n",
    "\n"
   ]
  },
  {
   "cell_type": "code",
   "execution_count": 14,
   "metadata": {},
   "outputs": [
    {
     "name": "stdout",
     "output_type": "stream",
     "text": [
      "<class 'pandas.core.frame.DataFrame'>\n",
      "RangeIndex: 1350 entries, 0 to 1349\n",
      "Data columns (total 13 columns):\n",
      " #   Column                 Non-Null Count  Dtype  \n",
      "---  ------                 --------------  -----  \n",
      " 0   date_created           1350 non-null   object \n",
      " 1   contacts_n             1350 non-null   float64\n",
      " 2   contacts_n_1           1350 non-null   float64\n",
      " 3   contacts_n_2           1350 non-null   float64\n",
      " 4   contacts_n_3           1350 non-null   float64\n",
      " 5   contacts_n_4           1350 non-null   float64\n",
      " 6   contacts_n_5           1350 non-null   float64\n",
      " 7   contacts_n_6           1350 non-null   float64\n",
      " 8   contacts_n_7           1350 non-null   float64\n",
      " 9   total_callbacks        1350 non-null   float64\n",
      " 10  issue_type             1350 non-null   object \n",
      " 11  market                 1350 non-null   object \n",
      " 12  callbacks_per_contact  1350 non-null   float64\n",
      "dtypes: float64(10), object(3)\n",
      "memory usage: 137.2+ KB\n",
      "None\n"
     ]
    }
   ],
   "source": [
    "# Rename categorical instances to make vizualizations easier to read\n",
    "contacts_imputed['new_type'] = contacts_imputed['new_type'].replace({'type_1': 'account_management', 'type_2': 'technician_troubleshooting', 'type_3': 'scheduling', 'type_4': 'construction', 'type_5': 'internet_and_wifi'})\n",
    "\n",
    "contacts_imputed['new_market'] = contacts_imputed['new_market'].replace({'market_1':'San_Francisco', 'market_2': 'Chicago', 'market_3': 'New_York'})\n",
    "\n",
    "# Rename Columns for easier interpretation\n",
    "contacts_imputed.rename(columns={'new_type': 'issue_type', 'new_market': 'market'}, inplace=True)\n",
    "\n",
    "print(contacts_imputed.info())\n"
   ]
  },
  {
   "cell_type": "code",
   "execution_count": 15,
   "metadata": {},
   "outputs": [
    {
     "name": "stdout",
     "output_type": "stream",
     "text": [
      "  date_created  contacts_n  contacts_n_1  contacts_n_2  contacts_n_3  \\\n",
      "0   2022-01-15         2.0           0.0           0.0           0.0   \n",
      "1   2022-01-18         3.0           1.0           1.0           0.0   \n",
      "2   2022-03-06         3.0           0.0           0.0           0.0   \n",
      "3   2022-01-19         3.0           1.0           0.0           1.0   \n",
      "4   2022-03-18         3.0           0.0           0.0           0.0   \n",
      "\n",
      "   contacts_n_4  contacts_n_5  contacts_n_6  contacts_n_7  total_callbacks  \\\n",
      "0           0.0           0.0           1.0           0.0              1.0   \n",
      "1           0.0           0.0           0.0           0.0              2.0   \n",
      "2           1.0           0.0           0.0           0.0              1.0   \n",
      "3           0.0           0.0           0.0           0.0              2.0   \n",
      "4           1.0           0.0           0.0           0.0              1.0   \n",
      "\n",
      "           issue_type    market  callbacks_per_contact  \n",
      "0  account_management  New_York                    0.0  \n",
      "1  account_management  New_York                    1.0  \n",
      "2  account_management  New_York                    0.0  \n",
      "3  account_management  New_York                    1.0  \n",
      "4  account_management  New_York                    0.0  \n"
     ]
    }
   ],
   "source": [
    "print(contacts_imputed.head())"
   ]
  },
  {
   "cell_type": "markdown",
   "metadata": {},
   "source": [
    "# Load\n",
    "* Save file as a csv \n",
    "* Will be ready for upload to Tableau\n",
    "* Contains additional data in table for more in depth analysis if desired"
   ]
  },
  {
   "cell_type": "code",
   "execution_count": 20,
   "metadata": {},
   "outputs": [
    {
     "name": "stdout",
     "output_type": "stream",
     "text": [
      "CSV saved to: /Users/douglas/output/contacts_imputed2.csv\n"
     ]
    }
   ],
   "source": [
    "import os\n",
    "\n",
    "\n",
    "# Save to a folder named 'output' in current working directory\n",
    "output_dir = 'output'  \n",
    "csv_path = os.path.join(output_dir, 'contacts_imputed2.csv') \n",
    "\n",
    "# Create directory \n",
    "os.makedirs(output_dir, exist_ok=True)\n",
    "\n",
    "# Save DataFrame to CSV\n",
    "contacts_imputed.to_csv(csv_path, index=False)\n",
    "\n",
    "# Verify \n",
    "print(f\"CSV saved to: {os.path.abspath(csv_path)}\")"
   ]
  }
 ],
 "metadata": {
  "kernelspec": {
   "display_name": "Python 3",
   "language": "python",
   "name": "python3"
  },
  "language_info": {
   "codemirror_mode": {
    "name": "ipython",
    "version": 3
   },
   "file_extension": ".py",
   "mimetype": "text/x-python",
   "name": "python",
   "nbconvert_exporter": "python",
   "pygments_lexer": "ipython3",
   "version": "3.12.8"
  }
 },
 "nbformat": 4,
 "nbformat_minor": 2
}
